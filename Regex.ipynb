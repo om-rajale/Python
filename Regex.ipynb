{
 "cells": [
  {
   "cell_type": "code",
   "execution_count": 7,
   "id": "c008d425-fc2a-403f-857e-8300a3baef56",
   "metadata": {},
   "outputs": [
    {
     "name": "stdout",
     "output_type": "stream",
     "text": [
      "['ac', 'abc', 'abbc', 'abbbbc']\n"
     ]
    }
   ],
   "source": [
    "import re\n",
    "pattern = r\"ab*c\"\n",
    "print(re.findall(pattern,\"ac abc abbc abbbbc\""
   ]
  },
  {
   "cell_type": "code",
   "execution_count": 3,
   "id": "a5b1aeca-b320-456d-a1a6-5aa4051a30a5",
   "metadata": {},
   "outputs": [
    {
     "name": "stdout",
     "output_type": "stream",
     "text": [
      "['ac', 'abc', 'abbc', 'abbbc']\n"
     ]
    }
   ],
   "source": [
    "import re\n",
    "pattern = r\"ab*c\"  # Matches \"ac\", \"abc\", \"abbc\", etc.\n",
    "print(re.findall(pattern, \"ac abc abbc abbbc\"))\n",
    "# Output: ['ac', 'abc', 'abbc', 'abbbc']\n"
   ]
  },
  {
   "cell_type": "code",
   "execution_count": 9,
   "id": "aeb7667d-d4de-47cb-96cf-46e81d314ee3",
   "metadata": {},
   "outputs": [
    {
     "name": "stdout",
     "output_type": "stream",
     "text": [
      "['abc', 'abbc']\n"
     ]
    }
   ],
   "source": [
    "pattern = r\"ab+c\"\n",
    "print(re.findall(pattern,\"ab ac abc abbc\"))"
   ]
  },
  {
   "cell_type": "code",
   "execution_count": 17,
   "id": "34725f19-9092-42c2-8b52-20785e7f6531",
   "metadata": {},
   "outputs": [
    {
     "name": "stdout",
     "output_type": "stream",
     "text": [
      "['abc', 'ac', 'abc']\n"
     ]
    }
   ],
   "source": [
    "pattern = r\"ab?c\"\n",
    "print(re.findall(pattern,\"abc ac abc\"))"
   ]
  },
  {
   "cell_type": "code",
   "execution_count": 19,
   "id": "3c71b70d-06de-47f3-b28d-eeb4367beaf5",
   "metadata": {},
   "outputs": [
    {
     "name": "stdout",
     "output_type": "stream",
     "text": [
      "['abc', 'abbbc']\n"
     ]
    }
   ],
   "source": [
    "pattern = r\"ab{1,3}c\"\n",
    "print(re.findall(pattern,\"abc abbbc abbbbc\"))"
   ]
  },
  {
   "cell_type": "code",
   "execution_count": 31,
   "id": "a276a64c-7564-4c2c-b38c-df578f2dc244",
   "metadata": {},
   "outputs": [
    {
     "name": "stdout",
     "output_type": "stream",
     "text": [
      "['helloo']\n"
     ]
    }
   ],
   "source": [
    "#anchors\n",
    "pattern = r\"^helloo\"\n",
    "print(re.findall(pattern,\"helloo wolrd hello to helloo\"))"
   ]
  },
  {
   "cell_type": "code",
   "execution_count": 33,
   "id": "26c79415-7292-441f-9a30-c00be3a6b7cf",
   "metadata": {},
   "outputs": [
    {
     "name": "stdout",
     "output_type": "stream",
     "text": [
      "['world']\n"
     ]
    }
   ],
   "source": [
    "pattern = r\"world$\"\n",
    "print(re.findall(pattern,\"hello world hello world\"))"
   ]
  },
  {
   "cell_type": "code",
   "execution_count": 35,
   "id": "1881c6ff-57e2-436f-8f67-b02b1ccffe00",
   "metadata": {},
   "outputs": [
    {
     "name": "stdout",
     "output_type": "stream",
     "text": [
      "['world']\n"
     ]
    }
   ],
   "source": [
    "#boundries\n",
    "pattern = r\"\\bworld\\b\"\n",
    "print(re.findall(pattern,\"hello world to wordlwilde\"))"
   ]
  },
  {
   "cell_type": "code",
   "execution_count": 47,
   "id": "301bd269-3e2f-449a-890f-4aa7908a3d63",
   "metadata": {},
   "outputs": [
    {
     "name": "stdout",
     "output_type": "stream",
     "text": [
      "hello\n",
      "world\n"
     ]
    }
   ],
   "source": [
    "#capturing groups\n",
    "pattern = r\"(hello) (world)\"\n",
    "matches = re.search(pattern,\"hello world\")\n",
    "print(matches.group(1))\n",
    "print(matches.group(2))"
   ]
  },
  {
   "cell_type": "code",
   "execution_count": 54,
   "id": "00d8681e-5dda-4c7b-8580-a18a73f60929",
   "metadata": {},
   "outputs": [
    {
     "name": "stdout",
     "output_type": "stream",
     "text": [
      "['cat', 'dog', 'bird']\n"
     ]
    }
   ],
   "source": [
    "#alteration\n",
    "pattern = r\"dog|cat|bird\"\n",
    "print(re.findall(pattern,\"i have a cat, a dog and a bird\"))"
   ]
  },
  {
   "cell_type": "code",
   "execution_count": 64,
   "id": "7a405c35-32d5-407f-919a-b257088b9274",
   "metadata": {},
   "outputs": [
    {
     "name": "stdout",
     "output_type": "stream",
     "text": [
      "['walk', 'run']\n"
     ]
    }
   ],
   "source": [
    "#positive lookhead\n",
    "pattern = r\"\\b\\w+(?=ing\\b)\"\n",
    "print(re.findall(pattern,\"i am walking and runing\"))"
   ]
  },
  {
   "cell_type": "code",
   "execution_count": 74,
   "id": "e52622e6-728c-40bb-877a-57161d54a741",
   "metadata": {},
   "outputs": [
    {
     "name": "stdout",
     "output_type": "stream",
     "text": [
      "['i', 'not', 'walking', 'runnig']\n"
     ]
    }
   ],
   "source": [
    "#negative lookhead\n",
    "pattern = r\"\\b\\w+(?!ing\\b)\"\n",
    "print(re.findall(pattern,\"i not walking run\"))"
   ]
  },
  {
   "cell_type": "code",
   "execution_count": 76,
   "id": "6753a0c8-3da1-4065-b8f6-d886f32bc4ff",
   "metadata": {},
   "outputs": [
    {
     "name": "stdout",
     "output_type": "stream",
     "text": [
      "['walking', 'running', 'jump']\n"
     ]
    }
   ],
   "source": [
    "pattern = r\"\\b\\w+(?!ing\\b)\"  # Matches words not ending in \"ing\"\n",
    "print(re.findall(pattern, \"walking running jump\"))\n",
    "# Output: ['jump']\n"
   ]
  },
  {
   "cell_type": "code",
   "execution_count": 84,
   "id": "9b9a893c-e8bc-49d9-b174-d1196bfb8483",
   "metadata": {},
   "outputs": [
    {
     "name": "stdout",
     "output_type": "stream",
     "text": [
      "['100']\n"
     ]
    }
   ],
   "source": [
    "#positive lookbehind\n",
    "pattern = r\"(?<=\\$)\\d+\"\n",
    "print(re.findall(pattern,\"cost is $100\"))"
   ]
  },
  {
   "cell_type": "code",
   "execution_count": 94,
   "id": "1a48c87a-15ce-4639-88f4-282518ea3015",
   "metadata": {},
   "outputs": [
    {
     "name": "stdout",
     "output_type": "stream",
     "text": [
      "['100']\n"
     ]
    }
   ],
   "source": [
    "#negative lookbehind\n",
    "pattern = r\"(?<!$)\\d+\"\n",
    "print(re.findall(pattern,\"cost is dollers 100 \"))"
   ]
  },
  {
   "cell_type": "code",
   "execution_count": 100,
   "id": "806b602e-decc-4399-89c3-0cc97305e05d",
   "metadata": {},
   "outputs": [
    {
     "name": "stdout",
     "output_type": "stream",
     "text": [
      "['any', 'one']\n"
     ]
    }
   ],
   "source": [
    "#backreferences\n",
    "pattern = r\"(\\b\\w+)\\s+\\1\\b\"\n",
    "print(re.findall(pattern,\"is there any any one one\"))"
   ]
  },
  {
   "cell_type": "code",
   "execution_count": 106,
   "id": "b33b6c2c-3df6-450b-85c6-fee0e727d35f",
   "metadata": {},
   "outputs": [
    {
     "name": "stdout",
     "output_type": "stream",
     "text": [
      "True\n"
     ]
    }
   ],
   "source": [
    "#practical examples\n",
    "pattern =r\"^[a-zA-Z0-9._%+-]+@[a-zA-Z0-9.-]+\\.[a-zA-Z]{2,}$\"\n",
    "email = \"test@example.com\"\n",
    "print(bool(re.findall(pattern,email)))"
   ]
  },
  {
   "cell_type": "code",
   "execution_count": 108,
   "id": "0fe2f8af-36c1-4c3a-a410-92368cbc4ecd",
   "metadata": {},
   "outputs": [
    {
     "name": "stdout",
     "output_type": "stream",
     "text": [
      "True\n"
     ]
    }
   ],
   "source": [
    "pattern = r\"^\\+?91?\\d{10}$\"  # Supports Indian phone numbers with optional country code\n",
    "phone = \"+911234567890\"\n",
    "print(bool(re.match(pattern, phone)))\n",
    "# Output: True\n"
   ]
  },
  {
   "cell_type": "code",
   "execution_count": 110,
   "id": "2bfd63d5-f923-41ff-8147-1400005796bf",
   "metadata": {},
   "outputs": [
    {
     "name": "stdout",
     "output_type": "stream",
     "text": [
      "['2024']\n"
     ]
    }
   ],
   "source": [
    "pattern = r\"\\b\\d{4}\\b\"  # Matches any 4-digit number, useful for extracting years\n",
    "text = \"The year is 2024.\"\n",
    "print(re.findall(pattern, text))\n",
    "# Output: ['2024']\n"
   ]
  },
  {
   "cell_type": "code",
   "execution_count": 112,
   "id": "9a3cc274-9b8f-463a-bcbd-3866cfb33094",
   "metadata": {},
   "outputs": [
    {
     "name": "stdout",
     "output_type": "stream",
     "text": [
      "['u']\n"
     ]
    }
   ],
   "source": [
    "#9 . matches charcacters\n",
    "pattern = r\"[aeiou]\"\n",
    "print(re.findall(pattern,\"uff\"))"
   ]
  },
  {
   "cell_type": "code",
   "execution_count": 114,
   "id": "3e2acd9a-d4ce-43af-b8f2-2226282fc540",
   "metadata": {},
   "outputs": [
    {
     "name": "stdout",
     "output_type": "stream",
     "text": [
      "['f', 'f']\n"
     ]
    }
   ],
   "source": [
    "pattern = r\"[^aeiou]\"\n",
    "print(re.findall(pattern,\"uff\"))"
   ]
  },
  {
   "cell_type": "code",
   "execution_count": 116,
   "id": "2f963b94-33f0-4e16-9602-ed27b84ce390",
   "metadata": {},
   "outputs": [
    {
     "name": "stdout",
     "output_type": "stream",
     "text": [
      "['m', 'm', 'm']\n"
     ]
    }
   ],
   "source": [
    "pattern = r\"[a-z]\"\n",
    "print(re.findall(pattern,\"Ommm\"))"
   ]
  },
  {
   "cell_type": "code",
   "execution_count": null,
   "id": "a229a808-6464-4384-baa2-95004bf3ab9b",
   "metadata": {},
   "outputs": [],
   "source": []
  }
 ],
 "metadata": {
  "kernelspec": {
   "display_name": "Python 3 (ipykernel)",
   "language": "python",
   "name": "python3"
  },
  "language_info": {
   "codemirror_mode": {
    "name": "ipython",
    "version": 3
   },
   "file_extension": ".py",
   "mimetype": "text/x-python",
   "name": "python",
   "nbconvert_exporter": "python",
   "pygments_lexer": "ipython3",
   "version": "3.12.4"
  }
 },
 "nbformat": 4,
 "nbformat_minor": 5
}
